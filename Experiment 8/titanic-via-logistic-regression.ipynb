{
 "cells": [
  {
   "cell_type": "code",
   "execution_count": 1,
   "id": "f23e1506",
   "metadata": {
    "_cell_guid": "b1076dfc-b9ad-4769-8c92-a6c4dae69d19",
    "_uuid": "8f2839f25d086af736a60e9eeb907d3b93b6e0e5",
    "execution": {
     "iopub.execute_input": "2022-08-02T06:02:00.065694Z",
     "iopub.status.busy": "2022-08-02T06:02:00.065237Z",
     "iopub.status.idle": "2022-08-02T06:02:01.239827Z",
     "shell.execute_reply": "2022-08-02T06:02:01.238534Z"
    },
    "papermill": {
     "duration": 1.185284,
     "end_time": "2022-08-02T06:02:01.243739",
     "exception": false,
     "start_time": "2022-08-02T06:02:00.058455",
     "status": "completed"
    },
    "tags": []
   },
   "outputs": [
    {
     "name": "stdout",
     "output_type": "stream",
     "text": [
      "/kaggle/input/titanic/train.csv\n",
      "/kaggle/input/titanic/test.csv\n",
      "/kaggle/input/titanic/gender_submission.csv\n"
     ]
    }
   ],
   "source": [
    "# This Python 3 environment comes with many helpful analytics libraries installed\n",
    "# It is defined by the kaggle/python Docker image: https://github.com/kaggle/docker-python\n",
    "# For example, here's several helpful packages to load\n",
    "\n",
    "import numpy as np # linear algebra\n",
    "import pandas as pd # data processing, CSV file I/O (e.g. pd.read_csv)\n",
    "\n",
    "from sklearn.model_selection import train_test_split\n",
    "from sklearn.linear_model import LogisticRegression\n",
    "\n",
    "\n",
    "# Input data files are available in the read-only \"../input/\" directory\n",
    "# For example, running this (by clicking run or pressing Shift+Enter) will list all files under the input directory\n",
    "\n",
    "import os\n",
    "for dirname, _, filenames in os.walk('/kaggle/input'):\n",
    "    for filename in filenames:\n",
    "        print(os.path.join(dirname, filename))\n",
    "\n",
    "# You can write up to 20GB to the current directory (/kaggle/working/) that gets preserved as output when you create a version using \"Save & Run All\" \n",
    "# You can also write temporary files to /kaggle/temp/, but they won't be saved outside of the current session"
   ]
  },
  {
   "cell_type": "code",
   "execution_count": 2,
   "id": "be4923a9",
   "metadata": {
    "execution": {
     "iopub.execute_input": "2022-08-02T06:02:01.255884Z",
     "iopub.status.busy": "2022-08-02T06:02:01.255462Z",
     "iopub.status.idle": "2022-08-02T06:02:01.262881Z",
     "shell.execute_reply": "2022-08-02T06:02:01.261630Z"
    },
    "papermill": {
     "duration": 0.01571,
     "end_time": "2022-08-02T06:02:01.265410",
     "exception": false,
     "start_time": "2022-08-02T06:02:01.249700",
     "status": "completed"
    },
    "tags": []
   },
   "outputs": [],
   "source": [
    "def wrangle(filepath):\n",
    "    df = pd.read_csv(filepath)\n",
    "    \n",
    "    # Removing unnecessary columns \n",
    "    df.drop(columns=[\"Cabin\", \"Ticket\", \"Name\", \"Embarked\"], inplace=True)\n",
    "    # Change Sex from male to 1 and female to 0\n",
    "    df[\"Sex\"] = (df[\"Sex\"].str[0]==\"m\").replace(\"m\", 1).astype(int)\n",
    "    # forward filling those columns which have NaN values\n",
    "    df[\"Age\"] = df[\"Age\"].ffill()\n",
    "    df[\"Fare\"] = df[\"Fare\"].ffill()\n",
    "    \n",
    "    return df\n"
   ]
  },
  {
   "cell_type": "code",
   "execution_count": 3,
   "id": "490fdd75",
   "metadata": {
    "execution": {
     "iopub.execute_input": "2022-08-02T06:02:01.275284Z",
     "iopub.status.busy": "2022-08-02T06:02:01.274852Z",
     "iopub.status.idle": "2022-08-02T06:02:01.320035Z",
     "shell.execute_reply": "2022-08-02T06:02:01.318880Z"
    },
    "papermill": {
     "duration": 0.053876,
     "end_time": "2022-08-02T06:02:01.323289",
     "exception": false,
     "start_time": "2022-08-02T06:02:01.269413",
     "status": "completed"
    },
    "tags": []
   },
   "outputs": [
    {
     "name": "stdout",
     "output_type": "stream",
     "text": [
      "<class 'pandas.core.frame.DataFrame'>\n",
      "RangeIndex: 891 entries, 0 to 890\n",
      "Data columns (total 8 columns):\n",
      " #   Column       Non-Null Count  Dtype  \n",
      "---  ------       --------------  -----  \n",
      " 0   PassengerId  891 non-null    int64  \n",
      " 1   Survived     891 non-null    int64  \n",
      " 2   Pclass       891 non-null    int64  \n",
      " 3   Sex          891 non-null    int64  \n",
      " 4   Age          891 non-null    float64\n",
      " 5   SibSp        891 non-null    int64  \n",
      " 6   Parch        891 non-null    int64  \n",
      " 7   Fare         891 non-null    float64\n",
      "dtypes: float64(2), int64(6)\n",
      "memory usage: 55.8 KB\n",
      "None\n"
     ]
    }
   ],
   "source": [
    "train = wrangle(\"/kaggle/input/titanic/train.csv\")\n",
    "print(train.info())"
   ]
  },
  {
   "cell_type": "code",
   "execution_count": 4,
   "id": "8e1042b5",
   "metadata": {
    "execution": {
     "iopub.execute_input": "2022-08-02T06:02:01.333859Z",
     "iopub.status.busy": "2022-08-02T06:02:01.333448Z",
     "iopub.status.idle": "2022-08-02T06:02:01.358556Z",
     "shell.execute_reply": "2022-08-02T06:02:01.356554Z"
    },
    "papermill": {
     "duration": 0.033305,
     "end_time": "2022-08-02T06:02:01.361351",
     "exception": false,
     "start_time": "2022-08-02T06:02:01.328046",
     "status": "completed"
    },
    "tags": []
   },
   "outputs": [
    {
     "name": "stdout",
     "output_type": "stream",
     "text": [
      "<class 'pandas.core.frame.DataFrame'>\n",
      "RangeIndex: 418 entries, 0 to 417\n",
      "Data columns (total 7 columns):\n",
      " #   Column       Non-Null Count  Dtype  \n",
      "---  ------       --------------  -----  \n",
      " 0   PassengerId  418 non-null    int64  \n",
      " 1   Pclass       418 non-null    int64  \n",
      " 2   Sex          418 non-null    int64  \n",
      " 3   Age          418 non-null    float64\n",
      " 4   SibSp        418 non-null    int64  \n",
      " 5   Parch        418 non-null    int64  \n",
      " 6   Fare         418 non-null    float64\n",
      "dtypes: float64(2), int64(5)\n",
      "memory usage: 23.0 KB\n"
     ]
    }
   ],
   "source": [
    "test = wrangle(\"/kaggle/input/titanic/test.csv\")\n",
    "test_ids = test[\"PassengerId\"]\n",
    "test.info()"
   ]
  },
  {
   "cell_type": "code",
   "execution_count": 5,
   "id": "7c48321e",
   "metadata": {
    "execution": {
     "iopub.execute_input": "2022-08-02T06:02:01.371937Z",
     "iopub.status.busy": "2022-08-02T06:02:01.371535Z",
     "iopub.status.idle": "2022-08-02T06:02:01.382248Z",
     "shell.execute_reply": "2022-08-02T06:02:01.380474Z"
    },
    "papermill": {
     "duration": 0.019199,
     "end_time": "2022-08-02T06:02:01.385040",
     "exception": false,
     "start_time": "2022-08-02T06:02:01.365841",
     "status": "completed"
    },
    "tags": []
   },
   "outputs": [
    {
     "name": "stdout",
     "output_type": "stream",
     "text": [
      "X shape:  (891, 7)\n",
      "y shape:  (891,)\n"
     ]
    }
   ],
   "source": [
    "target = \"Survived\"\n",
    "X = train.drop(columns=\"Survived\")\n",
    "y= train[target]\n",
    "print(\"X shape: \", X.shape)\n",
    "print(\"y shape: \", y.shape)"
   ]
  },
  {
   "cell_type": "code",
   "execution_count": 6,
   "id": "bb7e6cd8",
   "metadata": {
    "execution": {
     "iopub.execute_input": "2022-08-02T06:02:01.396034Z",
     "iopub.status.busy": "2022-08-02T06:02:01.395600Z",
     "iopub.status.idle": "2022-08-02T06:02:01.404313Z",
     "shell.execute_reply": "2022-08-02T06:02:01.403079Z"
    },
    "papermill": {
     "duration": 0.017359,
     "end_time": "2022-08-02T06:02:01.406926",
     "exception": false,
     "start_time": "2022-08-02T06:02:01.389567",
     "status": "completed"
    },
    "tags": []
   },
   "outputs": [],
   "source": [
    "X_train, X_val, y_train, y_val= train_test_split(X, y, test_size=0.2, random_state=42)"
   ]
  },
  {
   "cell_type": "code",
   "execution_count": 7,
   "id": "15f210de",
   "metadata": {
    "execution": {
     "iopub.execute_input": "2022-08-02T06:02:01.417138Z",
     "iopub.status.busy": "2022-08-02T06:02:01.416719Z",
     "iopub.status.idle": "2022-08-02T06:02:01.424400Z",
     "shell.execute_reply": "2022-08-02T06:02:01.423092Z"
    },
    "papermill": {
     "duration": 0.015904,
     "end_time": "2022-08-02T06:02:01.427176",
     "exception": false,
     "start_time": "2022-08-02T06:02:01.411272",
     "status": "completed"
    },
    "tags": []
   },
   "outputs": [
    {
     "name": "stdout",
     "output_type": "stream",
     "text": [
      "Baseline Accuracy 0.6162\n"
     ]
    }
   ],
   "source": [
    "acc_baseline = y.value_counts(normalize=True).max()\n",
    "print(\"Baseline Accuracy\", round(acc_baseline, 4))"
   ]
  },
  {
   "cell_type": "code",
   "execution_count": 8,
   "id": "19000a05",
   "metadata": {
    "execution": {
     "iopub.execute_input": "2022-08-02T06:02:01.437489Z",
     "iopub.status.busy": "2022-08-02T06:02:01.437093Z",
     "iopub.status.idle": "2022-08-02T06:02:01.513417Z",
     "shell.execute_reply": "2022-08-02T06:02:01.512102Z"
    },
    "papermill": {
     "duration": 0.084713,
     "end_time": "2022-08-02T06:02:01.516192",
     "exception": false,
     "start_time": "2022-08-02T06:02:01.431479",
     "status": "completed"
    },
    "tags": []
   },
   "outputs": [
    {
     "data": {
      "text/plain": [
       "LogisticRegression(max_iter=1000)"
      ]
     },
     "execution_count": 8,
     "metadata": {},
     "output_type": "execute_result"
    }
   ],
   "source": [
    "model = LogisticRegression(max_iter=1000)\n",
    "model.fit(X_train, y_train)"
   ]
  },
  {
   "cell_type": "code",
   "execution_count": 9,
   "id": "250e6727",
   "metadata": {
    "execution": {
     "iopub.execute_input": "2022-08-02T06:02:01.527184Z",
     "iopub.status.busy": "2022-08-02T06:02:01.526751Z",
     "iopub.status.idle": "2022-08-02T06:02:01.538127Z",
     "shell.execute_reply": "2022-08-02T06:02:01.536873Z"
    },
    "papermill": {
     "duration": 0.019976,
     "end_time": "2022-08-02T06:02:01.540731",
     "exception": false,
     "start_time": "2022-08-02T06:02:01.520755",
     "status": "completed"
    },
    "tags": []
   },
   "outputs": [
    {
     "data": {
      "text/plain": [
       "0.797752808988764"
      ]
     },
     "execution_count": 9,
     "metadata": {},
     "output_type": "execute_result"
    }
   ],
   "source": [
    "acc_train = model.score(X_train, y_train)\n",
    "acc_train"
   ]
  },
  {
   "cell_type": "code",
   "execution_count": 10,
   "id": "c1f1d963",
   "metadata": {
    "execution": {
     "iopub.execute_input": "2022-08-02T06:02:01.551551Z",
     "iopub.status.busy": "2022-08-02T06:02:01.551125Z",
     "iopub.status.idle": "2022-08-02T06:02:01.562446Z",
     "shell.execute_reply": "2022-08-02T06:02:01.560949Z"
    },
    "papermill": {
     "duration": 0.019568,
     "end_time": "2022-08-02T06:02:01.564948",
     "exception": false,
     "start_time": "2022-08-02T06:02:01.545380",
     "status": "completed"
    },
    "tags": []
   },
   "outputs": [
    {
     "data": {
      "text/plain": [
       "0.7932960893854749"
      ]
     },
     "execution_count": 10,
     "metadata": {},
     "output_type": "execute_result"
    }
   ],
   "source": [
    "acc_val = model.score(X_val, y_val)\n",
    "acc_val"
   ]
  },
  {
   "cell_type": "code",
   "execution_count": 11,
   "id": "1366c238",
   "metadata": {
    "execution": {
     "iopub.execute_input": "2022-08-02T06:02:01.577224Z",
     "iopub.status.busy": "2022-08-02T06:02:01.576778Z",
     "iopub.status.idle": "2022-08-02T06:02:01.595830Z",
     "shell.execute_reply": "2022-08-02T06:02:01.594908Z"
    },
    "papermill": {
     "duration": 0.028176,
     "end_time": "2022-08-02T06:02:01.598121",
     "exception": false,
     "start_time": "2022-08-02T06:02:01.569945",
     "status": "completed"
    },
    "tags": []
   },
   "outputs": [
    {
     "data": {
      "text/html": [
       "<div>\n",
       "<style scoped>\n",
       "    .dataframe tbody tr th:only-of-type {\n",
       "        vertical-align: middle;\n",
       "    }\n",
       "\n",
       "    .dataframe tbody tr th {\n",
       "        vertical-align: top;\n",
       "    }\n",
       "\n",
       "    .dataframe thead th {\n",
       "        text-align: right;\n",
       "    }\n",
       "</style>\n",
       "<table border=\"1\" class=\"dataframe\">\n",
       "  <thead>\n",
       "    <tr style=\"text-align: right;\">\n",
       "      <th></th>\n",
       "      <th>PassengerId</th>\n",
       "      <th>Survived</th>\n",
       "    </tr>\n",
       "  </thead>\n",
       "  <tbody>\n",
       "    <tr>\n",
       "      <th>0</th>\n",
       "      <td>892</td>\n",
       "      <td>0</td>\n",
       "    </tr>\n",
       "    <tr>\n",
       "      <th>1</th>\n",
       "      <td>893</td>\n",
       "      <td>1</td>\n",
       "    </tr>\n",
       "    <tr>\n",
       "      <th>2</th>\n",
       "      <td>894</td>\n",
       "      <td>0</td>\n",
       "    </tr>\n",
       "    <tr>\n",
       "      <th>3</th>\n",
       "      <td>895</td>\n",
       "      <td>0</td>\n",
       "    </tr>\n",
       "    <tr>\n",
       "      <th>4</th>\n",
       "      <td>896</td>\n",
       "      <td>1</td>\n",
       "    </tr>\n",
       "  </tbody>\n",
       "</table>\n",
       "</div>"
      ],
      "text/plain": [
       "   PassengerId  Survived\n",
       "0          892         0\n",
       "1          893         1\n",
       "2          894         0\n",
       "3          895         0\n",
       "4          896         1"
      ]
     },
     "execution_count": 11,
     "metadata": {},
     "output_type": "execute_result"
    }
   ],
   "source": [
    "predictions = model.predict(test)\n",
    "df = pd.DataFrame({\"PassengerId\":test_ids.values,\n",
    "                  \"Survived\":predictions})\n",
    "df.head()"
   ]
  },
  {
   "cell_type": "code",
   "execution_count": 12,
   "id": "8051b888",
   "metadata": {
    "execution": {
     "iopub.execute_input": "2022-08-02T06:02:01.609287Z",
     "iopub.status.busy": "2022-08-02T06:02:01.608863Z",
     "iopub.status.idle": "2022-08-02T06:02:01.616173Z",
     "shell.execute_reply": "2022-08-02T06:02:01.615307Z"
    },
    "papermill": {
     "duration": 0.015897,
     "end_time": "2022-08-02T06:02:01.618635",
     "exception": false,
     "start_time": "2022-08-02T06:02:01.602738",
     "status": "completed"
    },
    "tags": []
   },
   "outputs": [],
   "source": [
    "df.to_csv(\"predictions.csv\", index=False)"
   ]
  }
 ],
 "metadata": {
  "kernelspec": {
   "display_name": "Python 3",
   "language": "python",
   "name": "python3"
  },
  "language_info": {
   "codemirror_mode": {
    "name": "ipython",
    "version": 3
   },
   "file_extension": ".py",
   "mimetype": "text/x-python",
   "name": "python",
   "nbconvert_exporter": "python",
   "pygments_lexer": "ipython3",
   "version": "3.7.12"
  },
  "papermill": {
   "default_parameters": {},
   "duration": 12.377719,
   "end_time": "2022-08-02T06:02:02.447218",
   "environment_variables": {},
   "exception": null,
   "input_path": "__notebook__.ipynb",
   "output_path": "__notebook__.ipynb",
   "parameters": {},
   "start_time": "2022-08-02T06:01:50.069499",
   "version": "2.3.4"
  }
 },
 "nbformat": 4,
 "nbformat_minor": 5
}
